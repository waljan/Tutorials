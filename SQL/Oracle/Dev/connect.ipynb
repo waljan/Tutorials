{
 "cells": [
  {
   "cell_type": "code",
   "execution_count": 40,
   "metadata": {},
   "outputs": [],
   "source": [
    "import cx_Oracle\n",
    "\n",
    "# db =cx_Oracle.connect(\"system/dbpassword1@1521/XE\")\n",
    "db =cx_Oracle.connect(\"system/dbpassword1@6ecea667ff88:1521/XE\")\n",
    "# db =cx_Oracle.connect(\"system/dbpassword1@127.0.0.1:5500/XE\")\n",
    "cursor = db.cursor()\n",
    "\n",
    "#docker exec -it oracle_database_1 bash\n",
    "#lsnrctl status\n",
    "#-->6ecea667ff88"
   ]
  },
  {
   "cell_type": "code",
   "execution_count": 1,
   "metadata": {},
   "outputs": [],
   "source": [
    "import cx_Oracle\n",
    "\n",
    "db = cx_Oracle.connect(\"sys/dbpassword1@//database:1521/XE\", mode=cx_Oracle.SYSDBA)\n",
    "# db = cx_Oracle.connect(user=\"sys\", password=\"dbpassword1\", dsn=dsn)\n",
    "cur = db.cursor()"
   ]
  },
  {
   "cell_type": "code",
   "execution_count": null,
   "metadata": {},
   "outputs": [],
   "source": []
  },
  {
   "cell_type": "code",
   "execution_count": null,
   "metadata": {},
   "outputs": [],
   "source": []
  }
 ],
 "metadata": {
  "kernelspec": {
   "display_name": "Python 3",
   "language": "python",
   "name": "python3"
  },
  "language_info": {
   "codemirror_mode": {
    "name": "ipython",
    "version": 3
   },
   "file_extension": ".py",
   "mimetype": "text/x-python",
   "name": "python",
   "nbconvert_exporter": "python",
   "pygments_lexer": "ipython3",
   "version": "3.7.6"
  }
 },
 "nbformat": 4,
 "nbformat_minor": 4
}
